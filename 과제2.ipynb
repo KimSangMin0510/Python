{
  "nbformat": 4,
  "nbformat_minor": 0,
  "metadata": {
    "colab": {
      "provenance": [],
      "authorship_tag": "ABX9TyMs+ltS5g73oFNdAAP0ymsB",
      "include_colab_link": true
    },
    "kernelspec": {
      "name": "python3",
      "display_name": "Python 3"
    },
    "language_info": {
      "name": "python"
    }
  },
  "cells": [
    {
      "cell_type": "markdown",
      "metadata": {
        "id": "view-in-github",
        "colab_type": "text"
      },
      "source": [
        "<a href=\"https://colab.research.google.com/github/KimSangMin0510/Python/blob/main/%EA%B3%BC%EC%A0%9C2.ipynb\" target=\"_parent\"><img src=\"https://colab.research.google.com/assets/colab-badge.svg\" alt=\"Open In Colab\"/></a>"
      ]
    },
    {
      "cell_type": "markdown",
      "source": [
        "컴퓨터과 3학년 1반 6번\n",
        "김상민"
      ],
      "metadata": {
        "id": "QU30B9OxF9ex"
      }
    },
    {
      "cell_type": "code",
      "source": [
        "num1 = int(input(\"숫자1 ==> \"))\n",
        "num2 = int(input(\"숫자2 ==> \"))\n",
        "\n",
        "sum = num1 + num2\n",
        "sum1 = num1 - num2\n",
        "sum2 = num1 * num2\n",
        "sum3 = num1 / num2\n",
        "sum4 = num1 % num2\n",
        "sum5 = num1 ** num2\n",
        "\n",
        "print(num1, \"+\", num2, \"=\", sum)\n",
        "print(num1, \"-\", num2, \"=\", sum1)\n",
        "print(num1, \"*\", num2, \"=\", sum2)\n",
        "print(num1, \"/\", num2, \"=\", sum3)\n",
        "print(num1, \"%\", num2, \"=\", sum4)\n",
        "print(num1, \"**\", num2, \"=\", sum5)"
      ],
      "metadata": {
        "id": "DzltlsjHGXF9",
        "colab": {
          "base_uri": "https://localhost:8080/"
        },
        "outputId": "28166ec6-1dc7-481b-e532-694c979f1d75"
      },
      "execution_count": 10,
      "outputs": [
        {
          "output_type": "stream",
          "name": "stdout",
          "text": [
            "숫자1 ==> 100\n",
            "숫자2 ==> 10\n",
            "100 + 10 = 110\n",
            "100 - 10 = 90\n",
            "100 * 10 = 1000\n",
            "100 / 10 = 10.0\n",
            "100 % 10 = 0\n",
            "100 ** 10 = 100000000000000000000\n"
          ]
        }
      ]
    },
    {
      "cell_type": "code",
      "source": [],
      "metadata": {
        "id": "F_V16O1MGaat"
      },
      "execution_count": null,
      "outputs": []
    }
  ]
}