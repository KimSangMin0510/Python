{
  "nbformat": 4,
  "nbformat_minor": 0,
  "metadata": {
    "colab": {
      "provenance": [],
      "authorship_tag": "ABX9TyNz/v7kzuTFr7BP9genAHbL",
      "include_colab_link": true
    },
    "kernelspec": {
      "name": "python3",
      "display_name": "Python 3"
    },
    "language_info": {
      "name": "python"
    }
  },
  "cells": [
    {
      "cell_type": "markdown",
      "metadata": {
        "id": "view-in-github",
        "colab_type": "text"
      },
      "source": [
        "<a href=\"https://colab.research.google.com/github/KimSangMin0510/Python/blob/main/Myfirstpython.ipynb\" target=\"_parent\"><img src=\"https://colab.research.google.com/assets/colab-badge.svg\" alt=\"Open In Colab\"/></a>"
      ]
    },
    {
      "cell_type": "markdown",
      "source": [
        "2023학년도 응용프로그래밍 화면구현  \n",
        "파이썬 기초"
      ],
      "metadata": {
        "id": "h4C49AcyiOQA"
      }
    },
    {
      "cell_type": "code",
      "source": [
        "1. print(\"안산공업고등학교\")\n",
        "2. print(\"컴퓨터과 3학년 1반 6번 김상민\")\n",
        "3. print(\"파이썬 기초 수업\")"
      ],
      "metadata": {
        "id": "DSSl9nCySX2c"
      },
      "execution_count": null,
      "outputs": []
    },
    {
      "cell_type": "code",
      "source": [],
      "metadata": {
        "id": "OlHYLHuwjBPQ"
      },
      "execution_count": null,
      "outputs": []
    }
  ]
}